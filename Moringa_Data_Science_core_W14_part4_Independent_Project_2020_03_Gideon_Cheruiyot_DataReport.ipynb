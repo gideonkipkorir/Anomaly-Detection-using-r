{
 "cells": [
  {
   "cell_type": "markdown",
   "metadata": {},
   "source": [
    "# Anomaly detection\n",
    "## Problem statement: \n",
    "Determine whether there are anomilies in  the sales dataset and identify the anomalies for a super market.\n",
    "## Metric of success:\n",
    "To successfully point out anomilies if they do exist\n",
    "## Data relevance\n",
    "The relevance of the data will depend on sufficiency of data to determine anomalies in the supermarket sales dataset.\n",
    "## Data souce:\n",
    "our data set is stored in a csv file that contains sales for the supermarket\n",
    "## Experimental design\n",
    "\n"
   ]
  },
  {
   "cell_type": "code",
   "execution_count": 1,
   "metadata": {},
   "outputs": [
    {
     "name": "stderr",
     "output_type": "stream",
     "text": [
      "Warning message:\n",
      "\"package 'tidyverse' was built under R version 3.6.3\"-- Attaching packages --------------------------------------- tidyverse 1.3.0 --\n",
      "v ggplot2 3.3.0     v purrr   0.3.3\n",
      "v tibble  2.1.3     v dplyr   0.8.4\n",
      "v tidyr   1.0.2     v stringr 1.4.0\n",
      "v readr   1.3.1     v forcats 0.4.0\n",
      "Warning message:\n",
      "\"package 'ggplot2' was built under R version 3.6.2\"Warning message:\n",
      "\"package 'tibble' was built under R version 3.6.2\"Warning message:\n",
      "\"package 'tidyr' was built under R version 3.6.2\"Warning message:\n",
      "\"package 'readr' was built under R version 3.6.2\"Warning message:\n",
      "\"package 'purrr' was built under R version 3.6.2\"Warning message:\n",
      "\"package 'dplyr' was built under R version 3.6.2\"Warning message:\n",
      "\"package 'stringr' was built under R version 3.6.2\"Warning message:\n",
      "\"package 'forcats' was built under R version 3.6.2\"-- Conflicts ------------------------------------------ tidyverse_conflicts() --\n",
      "x dplyr::filter() masks stats::filter()\n",
      "x dplyr::lag()    masks stats::lag()\n",
      "Warning message:\n",
      "\"package 'anomalize' was built under R version 3.6.3\"== Use anomalize to improve your Forecasts by 50%! =============================\n",
      "Business Science offers a 1-hour course - Lab #18: Time Series Anomaly Detection!\n",
      "</> Learn more at: https://university.business-science.io/p/learning-labs-pro </>\n"
     ]
    }
   ],
   "source": [
    "# Load tidyverse and anomalize\n",
    "library(tidyverse)\n",
    "library(anomalize)"
   ]
  },
  {
   "cell_type": "code",
   "execution_count": 46,
   "metadata": {},
   "outputs": [
    {
     "data": {
      "text/html": [
       "<table>\n",
       "<thead><tr><th scope=col>Date</th><th scope=col>Sales</th></tr></thead>\n",
       "<tbody>\n",
       "\t<tr><td>1/5/2019 </td><td>548.9715 </td></tr>\n",
       "\t<tr><td>3/8/2019 </td><td> 80.2200 </td></tr>\n",
       "\t<tr><td>3/3/2019 </td><td>340.5255 </td></tr>\n",
       "\t<tr><td>1/27/2019</td><td>489.0480 </td></tr>\n",
       "\t<tr><td>2/8/2019 </td><td>634.3785 </td></tr>\n",
       "\t<tr><td>3/25/2019</td><td>627.6165 </td></tr>\n",
       "</tbody>\n",
       "</table>\n"
      ],
      "text/latex": [
       "\\begin{tabular}{r|ll}\n",
       " Date & Sales\\\\\n",
       "\\hline\n",
       "\t 1/5/2019  & 548.9715 \\\\\n",
       "\t 3/8/2019  &  80.2200 \\\\\n",
       "\t 3/3/2019  & 340.5255 \\\\\n",
       "\t 1/27/2019 & 489.0480 \\\\\n",
       "\t 2/8/2019  & 634.3785 \\\\\n",
       "\t 3/25/2019 & 627.6165 \\\\\n",
       "\\end{tabular}\n"
      ],
      "text/markdown": [
       "\n",
       "| Date | Sales |\n",
       "|---|---|\n",
       "| 1/5/2019  | 548.9715  |\n",
       "| 3/8/2019  |  80.2200  |\n",
       "| 3/3/2019  | 340.5255  |\n",
       "| 1/27/2019 | 489.0480  |\n",
       "| 2/8/2019  | 634.3785  |\n",
       "| 3/25/2019 | 627.6165  |\n",
       "\n"
      ],
      "text/plain": [
       "  Date      Sales   \n",
       "1 1/5/2019  548.9715\n",
       "2 3/8/2019   80.2200\n",
       "3 3/3/2019  340.5255\n",
       "4 1/27/2019 489.0480\n",
       "5 2/8/2019  634.3785\n",
       "6 3/25/2019 627.6165"
      ]
     },
     "metadata": {},
     "output_type": "display_data"
    }
   ],
   "source": [
    "#Loading and previewing the dataset\n",
    "sales <- read.csv('Supermarket_Sales_Forecasting - Sales.csv')\n",
    "#Previewing\n",
    "head(sales)"
   ]
  },
  {
   "cell_type": "code",
   "execution_count": 47,
   "metadata": {},
   "outputs": [
    {
     "name": "stdout",
     "output_type": "stream",
     "text": [
      "'data.frame':\t1000 obs. of  2 variables:\n",
      " $ Date : Factor w/ 89 levels \"1/1/2019\",\"1/10/2019\",..: 27 88 82 20 58 77 49 48 2 44 ...\n",
      " $ Sales: num  549 80.2 340.5 489 634.4 ...\n"
     ]
    }
   ],
   "source": [
    "str(sales)"
   ]
  },
  {
   "cell_type": "code",
   "execution_count": 57,
   "metadata": {},
   "outputs": [
    {
     "ename": "ERROR",
     "evalue": "Error in value[[3L]](cond): Error in prep_tbl_time(): No date or datetime column found.\n",
     "output_type": "error",
     "traceback": [
      "Error in value[[3L]](cond): Error in prep_tbl_time(): No date or datetime column found.\nTraceback:\n",
      "1. prep_tbl_time(sales, message = FALSE)",
      "2. prep_tbl_time.data.frame(sales, message = FALSE)",
      "3. tryCatch(timetk::tk_get_timeseries_variables(data)[[1]], error = function(e) stop(\"Error in prep_tbl_time(): No date or datetime column found.\"))",
      "4. tryCatchList(expr, classes, parentenv, handlers)",
      "5. tryCatchOne(expr, names, parentenv, handlers[[1L]])",
      "6. value[[3L]](cond)",
      "7. stop(\"Error in prep_tbl_time(): No date or datetime column found.\")"
     ]
    }
   ],
   "source": []
  },
  {
   "cell_type": "code",
   "execution_count": 48,
   "metadata": {},
   "outputs": [],
   "source": [
    " library(xts)\n",
    "  sales$Date <- xts(sales[,-1], order.by=as.Date(sales[,1], \"%m/%d/%Y\"))"
   ]
  },
  {
   "cell_type": "code",
   "execution_count": 49,
   "metadata": {},
   "outputs": [
    {
     "name": "stdout",
     "output_type": "stream",
     "text": [
      "'data.frame':\t1000 obs. of  2 variables:\n",
      " $ Date :An 'xts' object on 2019-01-01/2019-03-30 containing:\n",
      "  Data: num [1:1000, 1] 457 400 471 388 133 ...\n",
      "  Indexed by objects of class: [Date] TZ: UTC\n",
      "  xts Attributes:  \n",
      " NULL\n",
      " $ Sales: num  549 80.2 340.5 489 634.4 ...\n"
     ]
    }
   ],
   "source": [
    "str(sales)"
   ]
  },
  {
   "cell_type": "code",
   "execution_count": null,
   "metadata": {},
   "outputs": [],
   "source": []
  },
  {
   "cell_type": "code",
   "execution_count": 66,
   "metadata": {},
   "outputs": [
    {
     "ename": "ERROR",
     "evalue": "Error in value[[3L]](cond): Error in prep_tbl_time(): No date or datetime column found.\n",
     "output_type": "error",
     "traceback": [
      "Error in value[[3L]](cond): Error in prep_tbl_time(): No date or datetime column found.\nTraceback:\n",
      "1. prep_tbl_time(sales, message = FALSE)",
      "2. prep_tbl_time.data.frame(sales, message = FALSE)",
      "3. tryCatch(timetk::tk_get_timeseries_variables(data)[[1]], error = function(e) stop(\"Error in prep_tbl_time(): No date or datetime column found.\"))",
      "4. tryCatchList(expr, classes, parentenv, handlers)",
      "5. tryCatchOne(expr, names, parentenv, handlers[[1L]])",
      "6. value[[3L]](cond)",
      "7. stop(\"Error in prep_tbl_time(): No date or datetime column found.\")"
     ]
    }
   ],
   "source": [
    "library(dplyr)\n",
    "library(tibbletime)\n",
    "prep_tbl_time(sales, message = FALSE)"
   ]
  },
  {
   "cell_type": "code",
   "execution_count": 67,
   "metadata": {},
   "outputs": [
    {
     "data": {
      "text/html": [
       "<ol class=list-inline>\n",
       "\t<li>'tbl_df'</li>\n",
       "\t<li>'tbl'</li>\n",
       "\t<li>'data.frame'</li>\n",
       "</ol>\n"
      ],
      "text/latex": [
       "\\begin{enumerate*}\n",
       "\\item 'tbl\\_df'\n",
       "\\item 'tbl'\n",
       "\\item 'data.frame'\n",
       "\\end{enumerate*}\n"
      ],
      "text/markdown": [
       "1. 'tbl_df'\n",
       "2. 'tbl'\n",
       "3. 'data.frame'\n",
       "\n",
       "\n"
      ],
      "text/plain": [
       "[1] \"tbl_df\"     \"tbl\"        \"data.frame\""
      ]
     },
     "metadata": {},
     "output_type": "display_data"
    }
   ],
   "source": [
    "# Convert iris data to a tibble\n",
    "sales <- as_tibble(sales)\n",
    "class(sales)"
   ]
  },
  {
   "cell_type": "code",
   "execution_count": 68,
   "metadata": {},
   "outputs": [
    {
     "ename": "ERROR",
     "evalue": "Error in value[[3L]](cond): Error in prep_tbl_time(): No date or datetime column found.\n",
     "output_type": "error",
     "traceback": [
      "Error in value[[3L]](cond): Error in prep_tbl_time(): No date or datetime column found.\nTraceback:\n",
      "1. sales %>% time_decompose(count, method = \"stl\") %>% anomalize(remainder) %>% \n .     time_recompose() %>% plot_anomalies(time_recomposed = TRUE, \n .     ncol = 3, alpha_dots = 0.5)",
      "2. withVisible(eval(quote(`_fseq`(`_lhs`)), env, env))",
      "3. eval(quote(`_fseq`(`_lhs`)), env, env)",
      "4. eval(quote(`_fseq`(`_lhs`)), env, env)",
      "5. `_fseq`(`_lhs`)",
      "6. freduce(value, `_function_list`)",
      "7. function_list[[i]](value)",
      "8. time_decompose(., count, method = \"stl\")",
      "9. time_decompose.tbl_df(., count, method = \"stl\")",
      "10. prep_tbl_time(data, message = message)",
      "11. prep_tbl_time.data.frame(data, message = message)",
      "12. tryCatch(timetk::tk_get_timeseries_variables(data)[[1]], error = function(e) stop(\"Error in prep_tbl_time(): No date or datetime column found.\"))",
      "13. tryCatchList(expr, classes, parentenv, handlers)",
      "14. tryCatchOne(expr, names, parentenv, handlers[[1L]])",
      "15. value[[3L]](cond)",
      "16. stop(\"Error in prep_tbl_time(): No date or datetime column found.\")"
     ]
    }
   ],
   "source": [
    "sales %>%\n",
    "    time_decompose(count,method='stl') %>%\n",
    "    anomalize(remainder) %>%\n",
    "    time_recompose() %>%\n",
    "    plot_anomalies(time_recomposed = TRUE, ncol = 3, alpha_dots = 0.5)\n",
    "\n"
   ]
  },
  {
   "cell_type": "code",
   "execution_count": 69,
   "metadata": {},
   "outputs": [
    {
     "ename": "ERROR",
     "evalue": "Error in value[[3L]](cond): Error in prep_tbl_time(): No date or datetime column found.\n",
     "output_type": "error",
     "traceback": [
      "Error in value[[3L]](cond): Error in prep_tbl_time(): No date or datetime column found.\nTraceback:\n",
      "1. sales %>% time_decompose(count, method = \"stl\") %>% anomalize(remainder) %>% \n .     time_recompose() %>% plot_anomalies(time_recomposed = TRUE, \n .     ncol = 3, alpha_dots = 0.5)",
      "2. withVisible(eval(quote(`_fseq`(`_lhs`)), env, env))",
      "3. eval(quote(`_fseq`(`_lhs`)), env, env)",
      "4. eval(quote(`_fseq`(`_lhs`)), env, env)",
      "5. `_fseq`(`_lhs`)",
      "6. freduce(value, `_function_list`)",
      "7. function_list[[i]](value)",
      "8. time_decompose(., count, method = \"stl\")",
      "9. time_decompose.tbl_df(., count, method = \"stl\")",
      "10. prep_tbl_time(data, message = message)",
      "11. prep_tbl_time.data.frame(data, message = message)",
      "12. tryCatch(timetk::tk_get_timeseries_variables(data)[[1]], error = function(e) stop(\"Error in prep_tbl_time(): No date or datetime column found.\"))",
      "13. tryCatchList(expr, classes, parentenv, handlers)",
      "14. tryCatchOne(expr, names, parentenv, handlers[[1L]])",
      "15. value[[3L]](cond)",
      "16. stop(\"Error in prep_tbl_time(): No date or datetime column found.\")"
     ]
    }
   ],
   "source": [
    "sales %>% \n",
    "time_decompose(count, method = \"stl\") %>% \n",
    "anomalize(remainder) %>% \n",
    "time_recompose() %>% \n",
    "plot_anomalies(time_recomposed = TRUE, ncol = 3, alpha_dots = 0.5)"
   ]
  },
  {
   "cell_type": "code",
   "execution_count": 70,
   "metadata": {},
   "outputs": [
    {
     "ename": "ERROR",
     "evalue": "Error in value[[3L]](cond): Error in prep_tbl_time(): No date or datetime column found.\n",
     "output_type": "error",
     "traceback": [
      "Error in value[[3L]](cond): Error in prep_tbl_time(): No date or datetime column found.\nTraceback:\n",
      "1. sales %>% group_by(Date) %>% time_decompose(count, method = \"stl\") %>% \n .     anomalize(remainder, method = \"iqr\") %>% time_recompose() %>% \n .     plot_anomalies(time_recomposed = T, ncol = 5, alpha_dots = 0.25)",
      "2. withVisible(eval(quote(`_fseq`(`_lhs`)), env, env))",
      "3. eval(quote(`_fseq`(`_lhs`)), env, env)",
      "4. eval(quote(`_fseq`(`_lhs`)), env, env)",
      "5. `_fseq`(`_lhs`)",
      "6. freduce(value, `_function_list`)",
      "7. function_list[[i]](value)",
      "8. time_decompose(., count, method = \"stl\")",
      "9. time_decompose.grouped_df(., count, method = \"stl\")",
      "10. prep_tbl_time(data, message = message)",
      "11. prep_tbl_time.data.frame(data, message = message)",
      "12. tryCatch(timetk::tk_get_timeseries_variables(data)[[1]], error = function(e) stop(\"Error in prep_tbl_time(): No date or datetime column found.\"))",
      "13. tryCatchList(expr, classes, parentenv, handlers)",
      "14. tryCatchOne(expr, names, parentenv, handlers[[1L]])",
      "15. value[[3L]](cond)",
      "16. stop(\"Error in prep_tbl_time(): No date or datetime column found.\")"
     ]
    }
   ],
   "source": [
    "sales %>% group_by(Date) %>%\n",
    "    time_decompose(count,method='stl')%>%\n",
    "    anomalize(remainder,method = 'iqr') %>%\n",
    "    time_recompose()%>% plot_anomalies(time_recomposed = T,ncol=5,alpha_dots = 0.25)"
   ]
  },
  {
   "cell_type": "code",
   "execution_count": 71,
   "metadata": {},
   "outputs": [
    {
     "ename": "ERROR",
     "evalue": "Error in as.Date.default(x, ...): do not know how to convert 'x' to class \"Date\"\n",
     "output_type": "error",
     "traceback": [
      "Error in as.Date.default(x, ...): do not know how to convert 'x' to class \"Date\"\nTraceback:\n",
      "1. tibble(date = seq.Date(from = as.Date(sales$Date), by = \"day\"))",
      "2. lst_quos(xs, transform = expand_lst)",
      "3. eval_tidy(xs[[i]], unique_output)",
      "4. seq.Date(from = as.Date(sales$Date), by = \"day\")",
      "5. as.Date(sales$Date)",
      "6. as.Date.default(sales$Date)",
      "7. base::as.Date(x, ...)",
      "8. as.Date.default(x, ...)",
      "9. stop(gettextf(\"do not know how to convert '%s' to class %s\", \n .     deparse(substitute(x)), dQuote(\"Date\")), domain = NA)"
     ]
    }
   ],
   "source": [
    "library(dplyr)\n",
    "library(tibbletime)\n",
    "\n",
    "data_tbl <- tibble(\n",
    "    date  = seq.Date(from = as.Date(sales$Date), by = \"day\"))\n",
    "\n",
    "prep_tbl_time(data_tbl)"
   ]
  },
  {
   "cell_type": "markdown",
   "metadata": {},
   "source": [
    "help: https://rdrr.io/r/base/as.Date.html"
   ]
  },
  {
   "cell_type": "code",
   "execution_count": null,
   "metadata": {},
   "outputs": [],
   "source": []
  }
 ],
 "metadata": {
  "kernelspec": {
   "display_name": "R",
   "language": "R",
   "name": "ir"
  },
  "language_info": {
   "codemirror_mode": "r",
   "file_extension": ".r",
   "mimetype": "text/x-r-source",
   "name": "R",
   "pygments_lexer": "r",
   "version": "3.6.1"
  }
 },
 "nbformat": 4,
 "nbformat_minor": 2
}
